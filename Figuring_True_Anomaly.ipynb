{
 "cells": [
  {
   "cell_type": "code",
   "execution_count": 1,
   "metadata": {},
   "outputs": [],
   "source": [
    "import numpy as np\n",
    "import batman"
   ]
  },
  {
   "cell_type": "code",
   "execution_count": 2,
   "metadata": {},
   "outputs": [],
   "source": [
    "def transit_model(time, t0, per, rp, a, inc, ecc, w, u1, u2):\n",
    "    params = batman.TransitParams()                      #object to store transit parameters\n",
    "    params.t0 = t0                                       #time of inferior conjunction\n",
    "    params.per = per                                     #orbital period\n",
    "    params.rp = rp                                       #planet radius (in units of stellar radii)\n",
    "    params.a = a                                         #semi-major axis (in units of stellar radii)\n",
    "    params.inc = inc                                     #orbital inclination (in degrees)\n",
    "    params.ecc = ecc                                     #eccentricity\n",
    "    params.w = w                                         #longitude of periastron (in degrees)\n",
    "    params.limb_dark = \"quadratic\"                       #limb darkening model\n",
    "    params.u = [u1, u2]                                  #limb darkening coefficients\n",
    "\n",
    "    m = batman.TransitModel(params, time)                #initializes model\n",
    "    flux = m.light_curve(params)\n",
    "    t_secondary = m.get_t_secondary(params)\n",
    "    anom       = m.get_true_anomaly()                    # anom is in radian!\n",
    "    return flux, t_secondary, anom\n",
    "\n",
    "def eclipse(time, t0, per, rp, a, inc, ecc, w, u1, u2, fp, t_sec):\n",
    "    params = batman.TransitParams()                      #object to store transit parameters\n",
    "    params.t0 = t0                                       #time of inferior conjunction\n",
    "    params.per = per                                     #orbital period\n",
    "    params.rp = rp                                       #planet radius (in units of stellar radii)\n",
    "    params.a = a                                         #semi-major axis (in units of stellar radii)\n",
    "    params.inc = inc                                     #orbital inclination (in degrees)\n",
    "    params.ecc = ecc                                     #eccentricity\n",
    "    params.w = w                                         #longitude of periastron (in degrees)\n",
    "    params.limb_dark = \"quadratic\"                       #limb darkening model\n",
    "    params.u = [u1, u2]                                  #limb darkening coefficients\n",
    "    params.fp = fp                                       #planet/star brightnes\n",
    "    params.t_secondary = t_sec\n",
    "    \n",
    "    m = batman.TransitModel(params, time, transittype=\"secondary\")  #initializes model\n",
    "    flux = m.light_curve(params)\n",
    "    return flux\n",
    "\n",
    "def area(time, t_sec, per, rp, inc_raw, r2):\n",
    "    t = time - t_sec\n",
    "    w = 2*np.pi/per    # orbital angular frequency not to be confused with argumnent of periastron\n",
    "    phi = (w*t-np.pi)%(2*np.pi)\n",
    "    inc = inc_raw*np.pi/180 #converting inclination to degrees\n",
    "    #R = np.array([[np.sin(inc)*np.cos(phi),   np.sin(phi),  np.cos(inc)*np.cos(phi)],\n",
    "    #              [-np.sin(inc)*np.sin(phi),  np.cos(phi),  -np.cos(inc)*np.sin(phi)],\n",
    "    #              [-np.cos(inc),              0,            np.sin(inc)]])\n",
    "    R = np.zeros((len(phi),3,3))\n",
    "    R[:,0,0] = np.sin(inc)*np.cos(phi)\n",
    "    R[:,0,1] = np.sin(phi)\n",
    "    R[:,0,2] = np.cos(inc)*np.cos(phi)\n",
    "    R[:,1,0] = -np.sin(inc)*np.sin(phi)\n",
    "    R[:,1,1] = np.cos(phi)\n",
    "    R[:,1,2] = -np.cos(inc)*np.sin(phi)\n",
    "    R[:,2,0] = -np.cos(inc)\n",
    "    R[:,2,2] = np.sin(inc)\n",
    "    a_mat = np.array([[1/r2**2,  0,        0],\n",
    "                      [0,        1/rp**2,  0],\n",
    "                      [0,        0,        1/rp**2]])[np.newaxis,:,:]\n",
    "    #[[a, d, f],\n",
    "    # [_, b, e],\n",
    "    # [_, _, c]] \n",
    "    arr = np.matmul(R.transpose(0,2,1), np.matmul(a_mat,R))\n",
    "    a = arr[:,0,0]\n",
    "    b = arr[:,1,1]\n",
    "    c = arr[:,2,2]\n",
    "    d = arr[:,0,1]\n",
    "    e = arr[:,1,2]\n",
    "    f = arr[:,0,2]\n",
    "    return np.pi/np.sqrt(3*b*f**2/a + 3*c*d**2/a + -6*d*e*f/a + b*c - e**2)/(np.pi*rp**2)\n",
    "\n",
    "def phase_variation(time, t_sec, per, anom, w, A, B, C, D, mode):\n",
    "    if 'eccent' in mode:\n",
    "        phi  = anom + np.deg2rad(w) + np.pi/2      # phis = orbital phase (everything in rad!)\n",
    "    else:\n",
    "        t    = time - t_sec\n",
    "        freq = 2*np.pi/per\n",
    "        phi  = (freq*t)\n",
    "    if 'v2' in mode:\n",
    "        phase = 1 + A*(np.cos(phi)-1) + B*np.sin(phi) + C*(np.cos(2*phi)-1) + D*np.sin(2*phi)\n",
    "    else:\n",
    "        phase = 1 + A*(np.cos(phi)-1) + B*np.sin(phi)\n",
    "    return phase\n",
    "\n",
    "def fplanet_model(time, anom, t0, per, rp, a, inc, ecc, w, u1, u2, fp, t_sec, A, B, C, D, r2, mode):\n",
    "    phase = phase_variation(time, t_sec, per, anom, w, A, B, C, D, mode)\n",
    "    eclip = eclipse(time, t0, per, rp, a, inc, ecc, w, u1, u2, fp, t_sec)\n",
    "    if 'ellipse' in mode:\n",
    "        return phase*(eclip - 1)*area(time, t_sec, per, rp, inc, r2)\n",
    "    else:\n",
    "        return phase*(eclip - 1)\n",
    "\n",
    "def ideal_lightcurve(time, t0, per, rp, a, inc, ecosw, esinw, q1, q2, fp, A, B, C, D, r2, mode):\n",
    "    \n",
    "    ecc = np.sqrt(ecosw**2 + esinw**2)\n",
    "    w   = np.rad2deg(np.arctan2(esinw, ecosw))    # needs to be in degrees for batman!\n",
    "    u1  = 2*np.sqrt(q1)*q2\n",
    "    u2  = np.sqrt(q1)*(1-2*q2)\n",
    "    # create transit first and use orbital paramater to get time of superior conjunction\n",
    "    transit, t_sec, anom = transit_model(time, t0, per, rp, a, inc, ecc, w, u1, u2)\n",
    "    \n",
    "    #ugly way of doing this as might pick up detector parameters, but thats alright - faster this way and still safe\n",
    "    fplanet = fplanet_model(time, anom, t0, per, rp, a, inc, ecc, w, u1, u2, fp, t_sec, A, B, C, D, r2, mode)\n",
    "    \n",
    "    # add both light curves\n",
    "    f_total = transit + fplanet\n",
    "    return f_total\n",
    "\n"
   ]
  },
  {
   "cell_type": "code",
   "execution_count": 3,
   "metadata": {},
   "outputs": [],
   "source": [
    "time = np.linspace(56417.2224048537,56420.8356839537, 10000)\n",
    "\n",
    "mode     = 'Poly2_v1_eccent_psfw'\n",
    "\n",
    "# Some definition for XO-3b\n",
    "r_star            = 1.377                    # for XO-3 in solar radius\n",
    "r_sol2jup         = 0.10049                  # jupiter radius in solar radius\n",
    "r_sol2AU          = 214.93946938             # AU radius in solar radius\n",
    "\n",
    "r2=1\n",
    "\n",
    "# Personalize object default object values\n",
    "#name = planet                          # name of the planet\n",
    "    \n",
    "t0   = 56418.540                       # BMJD time\n",
    "per  = 3.1915239                       # in days\n",
    "rp   = 0.125/r_star                    # planetary radius (in solar radius)/stellar radius (solar radius) \n",
    "a    = 0.0454*r_sol2AU/r_star          # \n",
    "inc  = 84.20                           # 90 = edge-on                \n",
    "ecosw= 0.277*np.cos(np.deg2rad(347.2)) # ecc and w from (Wong et aL. 2014) # np.cos only takes rad\n",
    "esinw= 0.277*np.sin(np.deg2rad(347.2)) # ecc and w from (Wong et aL. 2014) # np.sin only takes rad\n",
    "ecc  = 0\n",
    "anom = 0\n",
    "q1   = 0.001\n",
    "q2   = 0.001\n",
    "fp   = 0.001                           # eclipse depth in units of stellar flux\n",
    "    \n",
    "A    = 0.1\n",
    "B    = 0.0\n",
    "C=0.0\n",
    "D=0.0\n",
    "\n",
    "u1  = 2*np.sqrt(q1)*q2\n",
    "u2  = np.sqrt(q1)*(1-2*q2)\n",
    "\n",
    "ecc = np.sqrt(ecosw**2 + esinw**2)\n",
    "w   = np.rad2deg(np.arctan2(esinw, ecosw))"
   ]
  },
  {
   "cell_type": "code",
   "execution_count": 4,
   "metadata": {},
   "outputs": [
    {
     "data": {
      "text/plain": [
       "array([56396.20277778])"
      ]
     },
     "execution_count": 4,
     "metadata": {},
     "output_type": "execute_result"
    }
   ],
   "source": [
    "from astropy.time import Time\n",
    "times = ['2013-04-14T04:52:00']\n",
    "t = Time(times, format='isot', scale='utc')\n",
    "t.mjd "
   ]
  },
  {
   "cell_type": "code",
   "execution_count": 5,
   "metadata": {},
   "outputs": [],
   "source": [
    "flux = ideal_lightcurve(time, t0, per, rp, a, inc, ecosw, esinw, q1, q2, fp, A, B, C, D, r2, mode)"
   ]
  },
  {
   "cell_type": "code",
   "execution_count": 6,
   "metadata": {},
   "outputs": [],
   "source": [
    "import matplotlib.pyplot as plt\n",
    "%matplotlib inline"
   ]
  },
  {
   "cell_type": "code",
   "execution_count": 7,
   "metadata": {},
   "outputs": [
    {
     "data": {
      "text/plain": [
       "<matplotlib.legend.Legend at 0x10c3d40f0>"
      ]
     },
     "execution_count": 7,
     "metadata": {},
     "output_type": "execute_result"
    },
    {
     "data": {
      "image/png": "[encoded data removed]",
      "text/plain": [
       "<matplotlib.figure.Figure at 0x10699e048>"
      ]
     },
     "metadata": {},
     "output_type": "display_data"
    }
   ],
   "source": [
    "plt.figure(figsize=(10,4))\n",
    "plt.plot(time, flux)\n",
    "#plt.axvline(x=56396.20277778)\n",
    "plt.axvline(x=time[1910], color='orange', label='Time of Periastron')\n",
    "plt.legend()"
   ]
  },
  {
   "cell_type": "code",
   "execution_count": 8,
   "metadata": {},
   "outputs": [],
   "source": [
    "tflux, t_secondary, anom = transit_model(time, t0, per, rp, a, inc, ecc, w, u1, u2)"
   ]
  },
  {
   "cell_type": "code",
   "execution_count": 9,
   "metadata": {},
   "outputs": [
    {
     "data": {
      "text/plain": [
       "<matplotlib.lines.Line2D at 0x11355eda0>"
      ]
     },
     "execution_count": 9,
     "metadata": {},
     "output_type": "execute_result"
    },
    {
     "data": {
      "image/png": "[encoded data removed]",
      "text/plain": [
       "<matplotlib.figure.Figure at 0x1134c19b0>"
      ]
     },
     "metadata": {},
     "output_type": "display_data"
    }
   ],
   "source": [
    "plt.figure()\n",
    "plt.plot(anom, flux)\n",
    "plt.axvline(x=anom[190])\n",
    "plt.axvline(x=anom[363], color='C2')"
   ]
  },
  {
   "cell_type": "markdown",
   "metadata": {},
   "source": [
    "# Drawing the face-on orbit of XO-3b"
   ]
  },
  {
   "cell_type": "code",
   "execution_count": 9,
   "metadata": {},
   "outputs": [],
   "source": [
    "from __future__ import print_function, division\n",
    "import numpy as np\n",
    "from PyAstronomy import pyasl"
   ]
  },
  {
   "cell_type": "code",
   "execution_count": 145,
   "metadata": {},
   "outputs": [
    {
     "name": "stdout",
     "output_type": "stream",
     "text": [
      "Time interval: 0.9947606961038961 hours\n"
     ]
    }
   ],
   "source": [
    "a     = 0.0454    # semi-major axis in AU\n",
    "per   = per       # period in days\n",
    "ecc   = ecc       # eccentricity\n",
    "w     = w         # argument of periastron in deg\n",
    "inc   = 90-84.20    # inclination in deg\n",
    "lon   = 180        # longitude of ascending node in deg\n",
    "\n",
    "# creating the keplerian orbit\n",
    "ke = pyasl.KeplerEllipse(a=a, per=per, e=ecc, Omega=lon, i=inc, w=w)\n",
    "\n",
    "# Get a time axis\n",
    "t = np.linspace(0, per, 77)\n",
    "print('Time interval:', per*24/77, 'hours')\n",
    "\n",
    "# position in cartisian coordinates\n",
    "pos = ke.xyzPos(t)\n",
    "# get center position\n",
    "cen = ke.xyzCenter()\n",
    "# get center position\n",
    "peri = ke.xyzPeriastron()\n",
    "# get center position\n",
    "apas = ke.xyzApastron()"
   ]
  },
  {
   "cell_type": "code",
   "execution_count": 146,
   "metadata": {},
   "outputs": [
    {
     "name": "stdout",
     "output_type": "stream",
     "text": [
      "Eclipse (values, estimate) -1.347394182539622 -1.3474258045527607\n",
      "Transit (values, estimate) 1.7941984710501713 1.7941907297749948\n"
     ]
    }
   ],
   "source": [
    "# true anomaly of eclipse\n",
    "fecl = 3*np.pi/2-np.deg2rad(w)\n",
    "fecl = -np.pi+(fecl-np.pi)\n",
    "\n",
    "# true anomaly of transit\n",
    "ftra = np.pi/2-np.deg2rad(w)\n",
    "\n",
    "# get many time stamp and true anomalies\n",
    "times = np.linspace(0,per,100000)\n",
    "f = ke.trueAnomaly(times, ke.eccentricAnomaly(times))\n",
    "\n",
    "inde = np.argmin(np.abs(f-fecl))\n",
    "indt = np.argmin(np.abs(f-ftra))\n",
    "\n",
    "print('Eclipse (values, estimate)', fecl, f[inde])\n",
    "print('Transit (values, estimate)', ftra, f[indt])\n",
    "\n",
    "# position as eclispe\n",
    "ecli = ke.xyzPos(times[inde])\n",
    "# position as eclispe\n",
    "tran = ke.xyzPos(times[indt])"
   ]
  },
  {
   "cell_type": "code",
   "execution_count": 147,
   "metadata": {},
   "outputs": [
    {
     "data": {
      "image/png": "[encoded data removed]",
      "text/plain": [
       "<matplotlib.figure.Figure at 0x1a17470278>"
      ]
     },
     "metadata": {},
     "output_type": "display_data"
    }
   ],
   "source": [
    "plt.figure(figsize = (5,5))\n",
    "\n",
    "plt.plot(pos[:,0],pos[:,1], '.', color='darkgray', markersize = 4)\n",
    "#plt.plot(cen[0], cen[1], 'o', markersize = 10)\n",
    "plt.plot(peri[0], peri[1], 'o', markersize = 10, label = 'Periastron')\n",
    "plt.plot(apas[0], apas[1], 'o', markersize = 10, label = 'Apastron')\n",
    "plt.plot(ecli[0], ecli[1], 'o', markersize = 10, label = 'Eclipse')\n",
    "plt.plot(tran[0], tran[1], 'o', markersize = 10, label = 'Transit')\n",
    "\n",
    "plt.text(peri[0]+0.005, peri[1]-0.001, 'periapse', fontdict=None, withdash=False)\n",
    "plt.text(apas[0]-0.02, apas[1]-0.001, 'apoapse', fontdict=None, withdash=False)\n",
    "plt.text(ecli[0]+0.005, ecli[1]-0.01, 'secondary\\n eclipse', fontdict=None, withdash=False)\n",
    "plt.text(tran[0]+0.005, tran[1]+0.003, 'transit', fontdict=None, withdash=False)\n",
    "\n",
    "plt.plot(0, 0, '*', color = 'goldenrod',markersize = 25, label = 'Star')\n",
    "plt.xlim(-a, a+0.02)\n",
    "plt.ylim(-a-0.01, a+0.01)\n",
    "plt.axvspan(-0.002, 0.002, alpha=0.5, color='lightgrey')\n",
    "\n",
    "plt.xlabel('Distance (AU)')\n",
    "plt.ylabel('Distance (AU)')\n",
    "\n",
    "path = 'XO-3b_orbit.pdf'\n",
    "plt.savefig(path, bbox_inches='tight')"
   ]
  },
  {
   "cell_type": "code",
   "execution_count": null,
   "metadata": {},
   "outputs": [],
   "source": []
  },
  {
   "cell_type": "code",
   "execution_count": null,
   "metadata": {},
   "outputs": [],
   "source": []
  },
  {
   "cell_type": "code",
   "execution_count": 63,
   "metadata": {},
   "outputs": [
    {
     "name": "stdout",
     "output_type": "stream",
     "text": [
      "Shape of output array:  (200, 3)\n",
      "x, y, z for 50th point:  [ 1.12522122 -1.03334057 -0.24875952]\n"
     ]
    },
    {
     "data": {
      "image/png": "[encoded data removed]",
      "text/plain": [
       "<matplotlib.figure.Figure at 0x10d93a208>"
      ]
     },
     "metadata": {},
     "output_type": "display_data"
    }
   ],
   "source": [
    "# Instantiate a Keplerian elliptical orbit with\n",
    "# semi-major axis of 1.3 length units,\n",
    "# a period of 2 time units, eccentricity of 0.5,\n",
    "# longitude of ascending node of 70 degrees, an inclination\n",
    "# of 10 deg, and a periapsis argument of 110 deg.\n",
    "ke = pyasl.KeplerEllipse(1.3, 2., e=0.5, Omega=70., i=10.0, w=110.0)\n",
    "\n",
    "# Get a time axis\n",
    "t = np.linspace(0, 1.9, 200)\n",
    "\n",
    "# Calculate the orbit position at the given points\n",
    "# in a Cartesian coordinate system.\n",
    "pos = ke.xyzPos(t)\n",
    "print(\"Shape of output array: \", pos.shape)\n",
    "\n",
    "# x, y, and z coordinates for 50th time point\n",
    "print(\"x, y, z for 50th point: \", pos[50, ::])\n",
    "\n",
    "# Calculate orbit radius as a function of the\n",
    "radius = ke.radius(t)\n",
    "\n",
    "# Calculate velocity on orbit\n",
    "vel = ke.xyzVel(t)\n",
    "\n",
    "# Find the nodes of the orbit (Observer at -z)\n",
    "ascn, descn = ke.xyzNodes_LOSZ()\n",
    "\n",
    "# Plot x and y coordinates of the orbit\n",
    "plt.subplot(2,1,1)\n",
    "plt.title(\"Periapsis (red diamond), Asc. node (green circle), desc. node (red circle)\")\n",
    "plt.xlabel(\"East ->\")\n",
    "plt.ylabel(\"North ->\")\n",
    "plt.plot([0], [0], 'k+', markersize=9)\n",
    "plt.plot(pos[::,1], pos[::,0], 'bp')\n",
    "# Point of periapsis\n",
    "plt.plot([pos[0,1]], [pos[0,0]], 'rd')\n",
    "# Nodes of the orbit\n",
    "plt.plot([ascn[1]], [ascn[0]], 'go', markersize=10)\n",
    "plt.plot([descn[1]], [descn[0]], 'ro', markersize=10)\n",
    "# Plot RV\n",
    "plt.subplot(2,1,2)\n",
    "plt.xlabel(\"Time\")\n",
    "plt.ylabel(\"Radial velocity [length/time]\")\n",
    "plt.plot(t, vel[::,2], 'r.-')\n",
    "plt.show()"
   ]
  },
  {
   "cell_type": "code",
   "execution_count": null,
   "metadata": {},
   "outputs": [],
   "source": []
  },
  {
   "cell_type": "code",
   "execution_count": null,
   "metadata": {},
   "outputs": [],
   "source": []
  },
  {
   "cell_type": "code",
   "execution_count": null,
   "metadata": {},
   "outputs": [],
   "source": []
  }
 ],
 "metadata": {
  "kernelspec": {
   "display_name": "Python 3",
   "language": "python",
   "name": "python3"
  },
  "language_info": {
   "codemirror_mode": {
    "name": "ipython",
    "version": 3
   },
   "file_extension": ".py",
   "mimetype": "text/x-python",
   "name": "python",
   "nbconvert_exporter": "python",
   "pygments_lexer": "ipython3",
   "version": "3.6.4"
  }
 },
 "nbformat": 4,
 "nbformat_minor": 2
}
