{
 "cells": [
  {
   "cell_type": "code",
   "execution_count": 3,
   "metadata": {},
   "outputs": [],
   "source": [
    "import numpy as np\n",
    "import batman"
   ]
  },
  {
   "cell_type": "code",
   "execution_count": 4,
   "metadata": {},
   "outputs": [],
   "source": [
    "def transit_model(time, t0, per, rp, a, inc, ecc, w, u1, u2):\n",
    "    params = batman.TransitParams()                      #object to store transit parameters\n",
    "    params.t0 = t0                                       #time of inferior conjunction\n",
    "    params.per = per                                     #orbital period\n",
    "    params.rp = rp                                       #planet radius (in units of stellar radii)\n",
    "    params.a = a                                         #semi-major axis (in units of stellar radii)\n",
    "    params.inc = inc                                     #orbital inclination (in degrees)\n",
    "    params.ecc = ecc                                     #eccentricity\n",
    "    params.w = w                                         #longitude of periastron (in degrees)\n",
    "    params.limb_dark = \"quadratic\"                       #limb darkening model\n",
    "    params.u = [u1, u2]                                  #limb darkening coefficients\n",
    "\n",
    "    m = batman.TransitModel(params, time)                #initializes model\n",
    "    flux = m.light_curve(params)\n",
    "    t_secondary = m.get_t_secondary(params)\n",
    "    anom       = m.get_true_anomaly()                    # anom is in radian!\n",
    "    return flux, t_secondary, anom\n",
    "\n",
    "def eclipse(time, t0, per, rp, a, inc, ecc, w, u1, u2, fp, t_sec):\n",
    "    params = batman.TransitParams()                      #object to store transit parameters\n",
    "    params.t0 = t0                                       #time of inferior conjunction\n",
    "    params.per = per                                     #orbital period\n",
    "    params.rp = rp                                       #planet radius (in units of stellar radii)\n",
    "    params.a = a                                         #semi-major axis (in units of stellar radii)\n",
    "    params.inc = inc                                     #orbital inclination (in degrees)\n",
    "    params.ecc = ecc                                     #eccentricity\n",
    "    params.w = w                                         #longitude of periastron (in degrees)\n",
    "    params.limb_dark = \"quadratic\"                       #limb darkening model\n",
    "    params.u = [u1, u2]                                  #limb darkening coefficients\n",
    "    params.fp = fp                                       #planet/star brightnes\n",
    "    params.t_secondary = t_sec\n",
    "    \n",
    "    m = batman.TransitModel(params, time, transittype=\"secondary\")  #initializes model\n",
    "    flux = m.light_curve(params)\n",
    "    return flux\n",
    "\n",
    "def area(time, t_sec, per, rp, inc_raw, r2):\n",
    "    t = time - t_sec\n",
    "    w = 2*np.pi/per    # orbital angular frequency not to be confused with argumnent of periastron\n",
    "    phi = (w*t-np.pi)%(2*np.pi)\n",
    "    inc = inc_raw*np.pi/180 #converting inclination to degrees\n",
    "    #R = np.array([[np.sin(inc)*np.cos(phi),   np.sin(phi),  np.cos(inc)*np.cos(phi)],\n",
    "    #              [-np.sin(inc)*np.sin(phi),  np.cos(phi),  -np.cos(inc)*np.sin(phi)],\n",
    "    #              [-np.cos(inc),              0,            np.sin(inc)]])\n",
    "    R = np.zeros((len(phi),3,3))\n",
    "    R[:,0,0] = np.sin(inc)*np.cos(phi)\n",
    "    R[:,0,1] = np.sin(phi)\n",
    "    R[:,0,2] = np.cos(inc)*np.cos(phi)\n",
    "    R[:,1,0] = -np.sin(inc)*np.sin(phi)\n",
    "    R[:,1,1] = np.cos(phi)\n",
    "    R[:,1,2] = -np.cos(inc)*np.sin(phi)\n",
    "    R[:,2,0] = -np.cos(inc)\n",
    "    R[:,2,2] = np.sin(inc)\n",
    "    a_mat = np.array([[1/r2**2,  0,        0],\n",
    "                      [0,        1/rp**2,  0],\n",
    "                      [0,        0,        1/rp**2]])[np.newaxis,:,:]\n",
    "    #[[a, d, f],\n",
    "    # [_, b, e],\n",
    "    # [_, _, c]] \n",
    "    arr = np.matmul(R.transpose(0,2,1), np.matmul(a_mat,R))\n",
    "    a = arr[:,0,0]\n",
    "    b = arr[:,1,1]\n",
    "    c = arr[:,2,2]\n",
    "    d = arr[:,0,1]\n",
    "    e = arr[:,1,2]\n",
    "    f = arr[:,0,2]\n",
    "    return np.pi/np.sqrt(3*b*f**2/a + 3*c*d**2/a + -6*d*e*f/a + b*c - e**2)/(np.pi*rp**2)\n",
    "\n",
    "def phase_variation(time, t_sec, per, anom, w, A, B, C, D, mode):\n",
    "    if 'eccent' in mode:\n",
    "        phi  = anom + np.deg2rad(w) + np.pi/2      # phis = orbital phase (everything in rad!)\n",
    "    else:\n",
    "        t    = time - t_sec\n",
    "        freq = 2*np.pi/per\n",
    "        phi  = (freq*t)\n",
    "    if 'v2' in mode:\n",
    "        phase = 1 + A*(np.cos(phi)-1) + B*np.sin(phi) + C*(np.cos(2*phi)-1) + D*np.sin(2*phi)\n",
    "    else:\n",
    "        phase = 1 + A*(np.cos(phi)-1) + B*np.sin(phi)\n",
    "    return phase\n",
    "\n",
    "def fplanet_model(time, anom, t0, per, rp, a, inc, ecc, w, u1, u2, fp, t_sec, A, B, C, D, r2, mode):\n",
    "    phase = phase_variation(time, t_sec, per, anom, w, A, B, C, D, mode)\n",
    "    eclip = eclipse(time, t0, per, rp, a, inc, ecc, w, u1, u2, fp, t_sec)\n",
    "    if 'ellipse' in mode:\n",
    "        return phase*(eclip - 1)*area(time, t_sec, per, rp, inc, r2)\n",
    "    else:\n",
    "        return phase*(eclip - 1)\n",
    "\n",
    "def ideal_lightcurve(time, t0, per, rp, a, inc, ecosw, esinw, q1, q2, fp, A, B, C, D, r2, mode):\n",
    "    \n",
    "    ecc = np.sqrt(ecosw**2 + esinw**2)\n",
    "    w   = np.rad2deg(np.arctan2(esinw, ecosw))    # needs to be in degrees for batman!\n",
    "    u1  = 2*np.sqrt(q1)*q2\n",
    "    u2  = np.sqrt(q1)*(1-2*q2)\n",
    "    # create transit first and use orbital paramater to get time of superior conjunction\n",
    "    transit, t_sec, anom = transit_model(time, t0, per, rp, a, inc, ecc, w, u1, u2)\n",
    "    \n",
    "    #ugly way of doing this as might pick up detector parameters, but thats alright - faster this way and still safe\n",
    "    fplanet = fplanet_model(time, anom, t0, per, rp, a, inc, ecc, w, u1, u2, fp, t_sec, A, B, C, D, r2, mode)\n",
    "    \n",
    "    # add both light curves\n",
    "    f_total = transit + fplanet\n",
    "    return f_total\n",
    "\n"
   ]
  },
  {
   "cell_type": "code",
   "execution_count": 5,
   "metadata": {},
   "outputs": [],
   "source": [
    "time = np.linspace(56417.2224048537,56420.8356839537, 10000)\n",
    "\n",
    "mode     = 'Poly2_v1_eccent_psfw'\n",
    "\n",
    "# Some definition for XO-3b\n",
    "r_star            = 1.377                    # for XO-3 in solar radius\n",
    "r_sol2jup         = 0.10049                  # jupiter radius in solar radius\n",
    "r_sol2AU          = 214.93946938             # AU radius in solar radius\n",
    "\n",
    "r2=1\n",
    "\n",
    "# Personalize object default object values\n",
    "#name = planet                          # name of the planet\n",
    "    \n",
    "t0   = 56418.540                       # BMJD time\n",
    "per  = 3.1915239                       # in days\n",
    "rp   = 0.125/r_star                    # planetary radius (in solar radius)/stellar radius (solar radius) \n",
    "a    = 0.0454*r_sol2AU/r_star          # \n",
    "inc  = 84.20                           # 90 = edge-on                \n",
    "ecosw= 0.277*np.cos(np.deg2rad(347.2)) # ecc and w from (Wong et aL. 2014) # np.cos only takes rad\n",
    "esinw= 0.277*np.sin(np.deg2rad(347.2)) # ecc and w from (Wong et aL. 2014) # np.sin only takes rad\n",
    "ecc  = 0\n",
    "anom = 0\n",
    "q1   = 0.001\n",
    "q2   = 0.001\n",
    "fp   = 0.001                           # eclipse depth in units of stellar flux\n",
    "    \n",
    "A    = 0.1\n",
    "B    = 0.0\n",
    "C=0.0\n",
    "D=0.0\n",
    "\n",
    "u1  = 2*np.sqrt(q1)*q2\n",
    "u2  = np.sqrt(q1)*(1-2*q2)\n",
    "\n",
    "ecc = np.sqrt(ecosw**2 + esinw**2)\n",
    "w   = np.rad2deg(np.arctan2(esinw, ecosw))"
   ]
  },
  {
   "cell_type": "code",
   "execution_count": 6,
   "metadata": {},
   "outputs": [
    {
     "data": {
      "text/plain": [
       "array([56396.20277778])"
      ]
     },
     "execution_count": 6,
     "metadata": {},
     "output_type": "execute_result"
    }
   ],
   "source": [
    "from astropy.time import Time\n",
    "times = ['2013-04-14T04:52:00']\n",
    "t = Time(times, format='isot', scale='utc')\n",
    "t.mjd "
   ]
  },
  {
   "cell_type": "code",
   "execution_count": 7,
   "metadata": {},
   "outputs": [],
   "source": [
    "flux = ideal_lightcurve(time, t0, per, rp, a, inc, ecosw, esinw, q1, q2, fp, A, B, C, D, r2, mode)"
   ]
  },
  {
   "cell_type": "code",
   "execution_count": 8,
   "metadata": {},
   "outputs": [],
   "source": [
    "import matplotlib.pyplot as plt\n",
    "%matplotlib inline"
   ]
  },
  {
   "cell_type": "code",
   "execution_count": 16,
   "metadata": {},
   "outputs": [
    {
     "data": {
      "text/plain": [
       "<matplotlib.legend.Legend at 0x1140e4f28>"
      ]
     },
     "execution_count": 16,
     "metadata": {},
     "output_type": "execute_result"
    },
    {
     "data": {
      "image/png": "[encoded data removed]",
      "text/plain": [
       "<matplotlib.figure.Figure at 0x1140990b8>"
      ]
     },
     "metadata": {},
     "output_type": "display_data"
    }
   ],
   "source": [
    "plt.figure(figsize=(10,4))\n",
    "plt.plot(time, flux)\n",
    "#plt.axvline(x=56396.20277778)\n",
    "plt.axvline(x=time[1910], color='orange', label='Time of Periastron')\n",
    "plt.legend()"
   ]
  },
  {
   "cell_type": "code",
   "execution_count": 11,
   "metadata": {},
   "outputs": [],
   "source": [
    "tflux, t_secondary, anom = transit_model(time, t0, per, rp, a, inc, ecc, w, u1, u2)"
   ]
  },
  {
   "cell_type": "code",
   "execution_count": 12,
   "metadata": {},
   "outputs": [
    {
     "data": {
      "text/plain": [
       "<matplotlib.lines.Line2D at 0x114082dd8>"
      ]
     },
     "execution_count": 12,
     "metadata": {},
     "output_type": "execute_result"
    },
    {
     "data": {
      "image/png": "[encoded data removed]",
      "text/plain": [
       "<matplotlib.figure.Figure at 0x113faeba8>"
      ]
     },
     "metadata": {},
     "output_type": "display_data"
    }
   ],
   "source": [
    "plt.figure()\n",
    "plt.plot(anom, flux)\n",
    "plt.axvline(x=anom[190])\n",
    "plt.axvline(x=anom[363], color='C2')"
   ]
  },
  {
   "cell_type": "code",
   "execution_count": 13,
   "metadata": {},
   "outputs": [],
   "source": [
    "diff = np.abs(anom)"
   ]
  },
  {
   "cell_type": "code",
   "execution_count": 14,
   "metadata": {},
   "outputs": [
    {
     "data": {
      "text/plain": [
       "1910"
      ]
     },
     "execution_count": 14,
     "metadata": {},
     "output_type": "execute_result"
    }
   ],
   "source": [
    "np.argmin(diff)"
   ]
  },
  {
   "cell_type": "code",
   "execution_count": 15,
   "metadata": {},
   "outputs": [
    {
     "data": {
      "text/plain": [
       "56417.90827381378"
      ]
     },
     "execution_count": 15,
     "metadata": {},
     "output_type": "execute_result"
    }
   ],
   "source": [
    "time[1898]"
   ]
  },
  {
   "cell_type": "code",
   "execution_count": null,
   "metadata": {},
   "outputs": [],
   "source": []
  }
 ],
 "metadata": {
  "kernelspec": {
   "display_name": "Python 3",
   "language": "python",
   "name": "python3"
  },
  "language_info": {
   "codemirror_mode": {
    "name": "ipython",
    "version": 3
   },
   "file_extension": ".py",
   "mimetype": "text/x-python",
   "name": "python",
   "nbconvert_exporter": "python",
   "pygments_lexer": "ipython3",
   "version": "3.6.4"
  }
 },
 "nbformat": 4,
 "nbformat_minor": 2
}
