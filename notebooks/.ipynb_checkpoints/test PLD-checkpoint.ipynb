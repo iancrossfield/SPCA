{
 "cells": [
  {
   "cell_type": "code",
   "execution_count": 1,
   "metadata": {},
   "outputs": [
    {
     "name": "stdout",
     "output_type": "stream",
     "text": [
      "Error: binrms from timeavg failed to import\n"
     ]
    }
   ],
   "source": [
    "import numpy as np\n",
    "import matplotlib.pyplot as plt\n",
    "\n",
    "import time as t\n",
    "import os, sys\n",
    "import csv\n",
    "\n",
    "lib_path = os.path.abspath(os.path.join('../'))\n",
    "sys.path.append(lib_path)\n",
    "\n",
    "import helpers\n",
    "import astro_models\n",
    "import make_plots\n",
    "import make_plots_custom\n",
    "import detec_models\n",
    "import bliss\n",
    "\n",
    "%matplotlib inline"
   ]
  },
  {
   "cell_type": "code",
   "execution_count": 2,
   "metadata": {},
   "outputs": [],
   "source": [
    "path = '/volumes/Seagate Expansion Drive/Research/XO-3b/ch1/Analysis_2013/3um_PLD_3x3/ch1_datacube_binned_AORs464.dat'"
   ]
  },
  {
   "cell_type": "code",
   "execution_count": 51,
   "metadata": {},
   "outputs": [],
   "source": [
    "mode = 'PLD1_3x3_v1_eccent'\n",
    "\n",
    "# Get Data\n",
    "data = helpers.get_data(path, mode)    \n",
    "# Sort data\n",
    "P_0, flux_err0, time0, xdata0, ydata0, psfxw0, psfyw0 = helpers.time_sort_data(*data)\n",
    "# Trim AOR\n",
    "P, flux_err, time, xdata, ydata, psfxw, psfyw = helpers.time_sort_data(*data)\n",
    "# pre-calculation\n",
    "mid_x, mid_y = np.mean(xdata), np.mean(ydata)\n",
    "# transposing Pixel intensities and normalizing\n",
    "P_0, P = P_0.T, P.T\n",
    "P_0, P = P_0/np.median(np.sum(P_0, axis=0)), P/np.median(np.sum(P_0, axis=0))\n",
    "# calculate flux by summing P\n",
    "flux0 = np.sum(P_0, axis=0)\n",
    "flux  = np.sum(P, axis=0)\n",
    "# get P-hats from Deming et al. 2015\n",
    "Pnorm_0,Pnorm = P_0/flux0, P/flux"
   ]
  },
  {
   "cell_type": "code",
   "execution_count": 74,
   "metadata": {},
   "outputs": [],
   "source": [
    "def detec_model_PLD(input_data, p1_1, p2_1, p3_1, p4_1, p5_1, p6_1, p7_1, p8_1,p9_1,\n",
    "                    p10_1=0,p11_1=0,p12_1=0,p13_1=0,p14_1=0,p15_1=0,p16_1=0,p17_1=0,p18_1=0,p19_1=0,\n",
    "                    p20_1=0,p21_1=0,p22_1=0,p23_1=0,p24_1=0,p25_1=0,p1_2 =0,p2_2 =0,p3_2 =0,p4_2 =0,\n",
    "                    p5_2 =0,p6_2 =0,p7_2 =0,p8_2 =0,p9_2 =0,p10_2=0,p11_2=0,p12_2=0,p13_2=0,p14_2=0,\n",
    "                    p15_2=0,p16_2=0,p17_2=0,p18_2=0,p19_2=0,p20_2=0,p21_2=0,p22_2=0,p23_2=0,p24_2=0,\n",
    "                    p25_2=0):\n",
    "    \n",
    "    Pgroup, mode = input_data # Pgroup are pixel \"lightcurves\" \n",
    "    \n",
    "    \n",
    "    \n",
    "    if '3x3' in mode.lower():\n",
    "        print('lol')\n",
    "        P1, P2, P3, P4, P5, P6, P7, P8, P9 = np.split(Pgroup, 9, axis=0)\n",
    "        if 'pld1' in mode.lower():\n",
    "            detec = np.asarray(p1_1*P1+ p2_1*P2+ p3_1*P3+ p4_1*P4+ p5_1*P5+ p6_1*P6+ p7_1*P7+ p8_1*P8+ p9_1*P9)\n",
    "            print('lol2')\n",
    "        elif 'pld2' in mode.lower():\n",
    "            detec = np.asarray(p1_1*P1   + p2_1*P2   + p3_1*P3   + p4_1*P4   + p5_1*P5   + p6_1*P6   + p7_1*P7   + \n",
    "                               p8_1*P8   + p9_1*P9+ \n",
    "                               p1_2*P1**2+ p2_2*P2**2+ p3_2*P3**2+ p4_2*P4**2+ p5_2*P5**2+ p6_2*P6**2+ p7_2*P7**2+ \n",
    "                               p8_2*P8**2+ p9_2*P9**2)\n",
    "            \n",
    "    elif '5x5' in mode.lower():\n",
    "        P1, P2, P3, P4, P5, P6, P7, P8, P9 , P10, P11, P12, P13, P14, P15, \\\n",
    "        P16, P17, P18, P19, P20, P21, P22, P23, P24, P25 = np.split(Pgroup, 25, axis=0)\n",
    "        if 'pld1' in mode.lower():\n",
    "            detec = np.asarray(p1*P1+ p2_1*P2+ p3_1*P3+ p4_1*P4+ p5_1*P5+ p6_1*P6+ p7_1*P7+ p8_1*P8+ p9_1*P9+ \n",
    "                               p10_1*P10+ p11_1*P11+ p12_1*P12+ p13_1*P13+ p14_1*P14+ p15_1*P15+ p16_1*P16+ \n",
    "                               p17_1*P17+ p18_1*P18+ p19_1*P19+ p20_1*P20+ p21_1*P21+ p22_1*P22+ p23_1*P23+ \n",
    "                               p24_1*P24+ p25_1*P25)\n",
    "        elif 'pld2' in mode.lower():\n",
    "            detec = np.asarray(p1_1*P1     + p2_1*P2     + p3_1*P3     + p4_1*P4     + p5_1*P5     + p6_1*P6     + p7_1*P7     +\n",
    "                               p8_1*P8     + p9_1*P9     + p10_1*P10   + p11_1*P11   + p12_1*P12   + p13_1*P13   + p14_1*P14   +\n",
    "                               p15_1*P15   + p16_1*P16   + p17_1*P17   + p18_1*P18   + p19_1*P19   + p20_1*P20   + p21_1*P21   +\n",
    "                               p22_1*P22   + p23_1*P23   + p24_1*P24   + p25_1*P25   + p1_2*P1**2  + p2_2*P2**2  + p3_2*P3**2  +\n",
    "                               p4_2*P4**2  + p5_2*P5**2  + p6_2*P6**2  + p7_2*P7**2  + p8_2*P8**2  + p9_2*P9**2  + p10_2*P10**2+\n",
    "                               p11_2*P11**2+ p12_2*P12**2+ p13_2*P13**2+ p14_2*P14**2+ p15_2*P15**2+ p16_2*P16**2+ p17_2*P17**2+\n",
    "                               p18_2*P18**2+ p19_2*P19**2+ p20_2*P20**2+ p21_2*P21**2+ p22_2*P22**2+ p23_2*P23**2+ p24_2*P24**2+\n",
    "                               p25_2*P25**2)\n",
    "    return detec.ravel()\n",
    "\n",
    "\n"
   ]
  },
  {
   "cell_type": "code",
   "execution_count": 78,
   "metadata": {},
   "outputs": [],
   "source": [
    "def signal_PLD(signal_input, t0, per, rp, a, inc, ecosw, esinw, q1, q2, fp, A, B, C, D, r2, r2off,\n",
    "               p1_1 ,p2_1 ,p3_1 ,p4_1 ,p5_1 ,p6_1 ,p7_1 ,p8_1 ,p9_1,p10_1,p11_1,p12_1,p13_1,p14_1,p15_1,\n",
    "               p16_1,p17_1,p18_1,p19_1,p20_1,p21_1,p22_1,p23_1,p24_1,p25_1,\n",
    "               p1_2 ,p2_2 ,p3_2 ,p4_2 ,p5_2 ,p6_2 ,p7_2 ,p8_2 ,p9_2,p10_2,p11_2,p12_2,p13_2,p14_2,p15_2,\n",
    "               p16_2,p17_2,p18_2,p19_2,p20_2,p21_2,p22_2,p23_2,p24_2,p25_2,\n",
    "               d1, d2, d3, s1, s2, m1, sigF):\n",
    "    \n",
    "    print('lol')\n",
    "    #flux, time, Pgroup, mode = signal_input\n",
    "    time   = signal_input[1]\n",
    "    Pgroup = signal_input[2]\n",
    "    mode   = signal_input[-1]\n",
    "    \n",
    "    # technically, PSFW variation should be modelled by PLD, for centroid and psfw should not be in signal_input\n",
    "    \n",
    "    #if 'psfw' in mode.lower():\n",
    "    #    psfwidths = signal_input[4:6]\n",
    "    #    psfsys = detec_model_PSFW(psfwidths, d1, d2, d3)\n",
    "    #else:\n",
    "    #    psfsys = 1\n",
    "    \n",
    "    if 'hside' in mode.lower():\n",
    "        hstep  = hside(time, s1, s2)\n",
    "    else:\n",
    "        hstep = 1\n",
    "        \n",
    "    if 'tslope' in mode.lower():\n",
    "        tcurve = tslope(time, m1)\n",
    "    else:\n",
    "        tcurve = 1\n",
    "    \n",
    "    astr   = astro_models.ideal_lightcurve(time, t0, per, rp, a, inc, ecosw, esinw, q1, q2, fp, \n",
    "                                           A, B, C, D, r2, r2off)\n",
    "    detec  = detec_model_PLD((Pgroup, mode), p1_1 ,p2_1 ,p3_1 ,p4_1 ,p5_1 ,p6_1 ,p7_1 ,p8_1,p9_1,\n",
    "                             p10_1,p11_1,p12_1,p13_1,p14_1,p15_1,p16_1,p17_1,p18_1,p19_1,p20_1,p21_1,\n",
    "                             p22_1,p23_1,p24_1,p25_1,p1_2 ,p2_2 ,p3_2 ,p4_2 ,p5_2 ,p6_2 ,p7_2 ,p8_2 ,\n",
    "                             p9_2,p10_2,p11_2,p12_2,p13_2,p14_2,p15_2,p16_2,p17_2,p18_2,p19_2,p20_2,\n",
    "                             p21_2,p22_2,p23_2,p24_2,p25_2)\n",
    "    \n",
    "    return astr*detec*hstep*tcurve\n",
    "\n",
    "def signal(signal_input, t0, per, rp, a, inc, ecosw, esinw, q1, q2, fp, A, B, C, D, r2, r2off,\n",
    "           c1,  c2,  c3,  c4,  c5,  c6, c7,  c8,  c9, c10, c11, c12, c13, c14, c15, c16, c17, c18, c19, c20, c21, \n",
    "           p1_1 ,p2_1 ,p3_1 ,p4_1 ,p5_1 ,p6_1 ,p7_1 ,p8_1 ,p9_1,p10_1,p11_1,p12_1,p13_1,p14_1,p15_1,\n",
    "           p16_1,p17_1,p18_1,p19_1,p20_1,p21_1,p22_1,p23_1,p24_1,p25_1,\n",
    "           p1_2 ,p2_2 ,p3_2 ,p4_2 ,p5_2 ,p6_2 ,p7_2 ,p8_2 ,p9_2,p10_2,p11_2,p12_2,p13_2,p14_2,p15_2,\n",
    "           p16_2,p17_2,p18_2,p19_2,p20_2,p21_2,p22_2,p23_2,p24_2,p25_2,\n",
    "           d1, d2, d3, s1, s2, m1, sigF):\n",
    "\n",
    "    mode = signal_input[-1]\n",
    "    if 'poly' in mode.lower():\n",
    "        return signal_poly(signal_input, t0, per, rp, a, inc, ecosw, esinw, q1, q2, fp, A, B, C, D, r2, r2off,\n",
    "                           c1,  c2,  c3,  c4,  c5,  c6,  c7,  c8,  c9, c10, c11, c12, c13, c14, c15, c16, c17,\n",
    "                           c18, c19, c20, c21, d1,  d2,  d3,  s1,  s2, m1, sigF)\n",
    "    elif 'bliss' in mode.lower():\n",
    "        return signal_bliss(signal_input, t0, per, rp, a, inc, ecosw, esinw, q1, q2, fp, A, B, C, D, r2, r2off,\n",
    "                            d1, d2, d3, s1, s2, m1, sigF)\n",
    "    elif 'pld' in mode.lower():\n",
    "        return signal_PLD(signal_input, t0, per, rp, a, inc, ecosw, esinw, q1, q2, fp, A, B, C, D, r2, r2off,\n",
    "               p1_1 ,p2_1 ,p3_1 ,p4_1 ,p5_1 ,p6_1 ,p7_1 ,p8_1 ,p9_1,p10_1,p11_1,p12_1,p13_1,p14_1,p15_1,\n",
    "               p16_1,p17_1,p18_1,p19_1,p20_1,p21_1,p22_1,p23_1,p24_1,p25_1,\n",
    "               p1_2 ,p2_2 ,p3_2 ,p4_2 ,p5_2 ,p6_2 ,p7_2 ,p8_2 ,p9_2,p10_2,p11_2,p12_2,p13_2,p14_2,p15_2,\n",
    "               p16_2,p17_2,p18_2,p19_2,p20_2,p21_2,p22_2,p23_2,p24_2,p25_2,\n",
    "               d1, d2, d3, s1, s2, m1, sigF)"
   ]
  },
  {
   "cell_type": "code",
   "execution_count": 79,
   "metadata": {},
   "outputs": [],
   "source": [
    "user = 'Lisa'\n",
    "if user=='Lisa':\n",
    "    # parameter you do not wish to fit\n",
    "    dparams = ['per', 'a', 'inc', 'ecosw', 'esinw']\n",
    "    \n",
    "    # make params obj\n",
    "    p0_obj  = helpers.signal_params() \n",
    "    \n",
    "    # Some definition for XO-3b\n",
    "    r_star            = 1.377                    # for XO-3 in solar radius\n",
    "    r_sol2jup         = 0.10049                  # jupiter radius in solar radius\n",
    "    r_sol2AU          = 214.93946938             # AU radius in solar radius\n",
    "\n",
    "    p0_obj.per  = 3.1915239                       # in days\n",
    "    p0_obj.rp   = 0.125/r_star                    # planetary radius (in solar radius)/stellar radius (solar radius) \n",
    "    p0_obj.a    = 0.0454*r_sol2AU/r_star          # \n",
    "    p0_obj.inc  = 84.20                           # 90 = edge-on                \n",
    "    p0_obj.ecosw= 0.277*np.cos(np.deg2rad(347.2)) # ecc and w from (Wong et aL. 2014) # np.cos only takes rad\n",
    "    p0_obj.esinw= 0.277*np.sin(np.deg2rad(347.2)) # ecc and w from (Wong et aL. 2014) # np.sin only takes rad\n",
    "    p0_obj.q1   = 0.001\n",
    "    p0_obj.q2   = 0.001\n",
    "    p0_obj.fp   = 0.001                           # eclipse depth in units of stellar flux\n",
    "    \n",
    "    p0_obj.A    = 0.1\n",
    "    p0_obj.B    = 0.0\n",
    "    \n",
    "    p0_obj.Tstar = 6300\n",
    "    p0_obj.TstarUncert = 150\n",
    "    \n",
    "\n",
    "    p0_obj.t0   = 56396.20277778              # BMJD time\n",
    "\n",
    "# labels for all the possible fit parameters\n",
    "p0_names = np.array(['t0', 'per', 'rp', 'a', 'inc', 'ecosw', 'esinw', 'q1', 'q2', 'fp', \n",
    "                     'A', 'B', 'C', 'D', 'r2', 'r2off', 'c1', 'c2', 'c3', 'c4', 'c5', 'c6', 'c7',\n",
    "                     'c8', 'c9', 'c10', 'c11', 'c12', 'c13', 'c14', 'c15', 'c16', 'c17',\n",
    "                     'c18', 'c19', 'c20', 'c21', 'd1', 'd2', 'd3', 's1', 's2', 'm1','p1_1', \n",
    "                     'p2_1', 'p3_1', 'p4_1', 'p5_1', 'p6_1', 'p7_1', 'p8_1', 'p9_1', 'p10_1', \n",
    "                     'p11_1', 'p12_1', 'p13_1', 'p14_1', 'p15_1', 'p16_1', 'p17_1', 'p18_1', \n",
    "                     'p19_1', 'p20_1', 'p21_1', 'p22_1', 'p23_1', 'p24_1', 'p25_1', 'p1_2', \n",
    "                     'p2_2', 'p3_2', 'p4_2', 'p5_2', 'p6_2', 'p7_2', 'p8_2', 'p9_2', 'p10_2', \n",
    "                     'p11_2', 'p12_2', 'p13_2', 'p14_2', 'p15_2', 'p16_2', 'p17_2', 'p18_2', \n",
    "                     'p19_2', 'p20_2', 'p21_2', 'p22_2', 'p23_2', 'p24_2', 'p25_2',  'sigF'])\n",
    "\n",
    "# fancy labels for plot purposed  for all possible fit parameters\n",
    "p0_fancyNames = np.array([r'$t_0$', r'$P_{\\rm orb}$', r'$R_p/R_*$', r'$a/R_*$', r'$i$', r'$e \\cos(\\omega)$',\n",
    "                          r'$e \\sin(\\omega)$', r'$q_1$', r'$q_2$', r'$f_p$', r'$A$', r'$B$',\n",
    "                          r'$C$', r'$D$', r'$R_{p,2}/R_*$', r'$R_{p,2}/R_*$ Offset', r'$C_1$', r'$C_2$', r'$C_3$',\n",
    "                          r'$C_4$', r'$C_5$', r'$C_6$', r'$C_7$', r'$C_8$', r'$C_9$',\n",
    "                          r'$C_{10}$', r'$C_{11}$', r'$C_{12}$', r'$C_{13}$', r'$C_{14}$',\n",
    "                          r'$C_{15}$', r'$C_{16}$', r'$C_{17}$', r'$C_{18}$', r'$C_{19}$',\n",
    "                          r'$C_{20}$', r'$C_{21}$',r'$D_1$', r'$D_2$', r'$D_3$', r'$S_1$', r'$S_2$', r'$M_1$', \n",
    "                          r'$p_{1-1}$', r'$p_{2-1}$', r'$p_{3-1}$', r'$p_{4-1}$', r'$p_{5-1}$', r'$p_{6-1}$', \n",
    "                          r'$p_{7-1}$', r'$p_{8-1}$', r'$p_{9-1}$', r'$p_{10-1}$', r'$p_{11-1}$', r'$p_{12-1}$', \n",
    "                          r'$p_{13-1}$', r'$p_{14-1}$', r'$p_{15-1}$', r'$p_{16-1}$', r'$p_{17-1}$', r'$p_{18-1}$', \n",
    "                          r'$p_{19-1}$', r'$p_{20-1}$', r'$p_{21-1}$', r'$p_{22-1}$', r'$p_{23-1}$', r'$p_{24-1}$', \n",
    "                          r'$p_{25-1}$', r'$p_{1-2}$', r'$p_{2-2}$', r'$p_{3-2}$', r'$p_{4-2}$', r'$p_{5-2}$', \n",
    "                          r'$p_{6-2}$', r'$p_{7-2}$', r'$p_{8-2}$', r'$p_{9-2}$', r'$p_{10-2}$', r'$p_{11-2}$', \n",
    "                          r'$p_{12-2}$', r'$p_{13-2}$', r'$p_{14-2}$', r'$p_{15-2}$', r'$p_{16-2}$', r'$p_{17-2}$', \n",
    "                          r'$p_{18-2}$', r'$p_{19-2}$', r'$p_{20-2}$', r'$p_{21-2}$', r'$p_{22-2}$', r'$p_{23-2}$', \n",
    "                          r'$p_{24-2}$', r'$p_{25-2}$', r'$\\sigma_F$'])"
   ]
  },
  {
   "cell_type": "code",
   "execution_count": 80,
   "metadata": {},
   "outputs": [],
   "source": [
    "debug = False\n",
    "signalfunc = signal\n",
    "\n",
    "# makes list of parameters that won't be fitted \n",
    "dparams = helpers.expand_dparams(dparams, mode)  \n",
    "\n",
    "# get p0\n",
    "obj = p0_obj\n",
    "p0, p0_labels, p0_fancyLabels = helpers.get_p0(p0_names, p0_fancyNames, dparams, p0_obj)\n",
    "#p0_signal  = p0\n",
    "#if 'sigF' in p0_labels:\n",
    "#    p0_signal = p0_signal[:-1]\n",
    "\n",
    "# make lambda function\n",
    "signalfunc = helpers.make_lambdafunc(signalfunc, dparams, p0_obj, debug=debug)\n",
    "\n",
    "# making lambda function for phasecurve and detector\n",
    "astrofunc = helpers.make_lambdafunc(astro_models.ideal_lightcurve, dparams, p0_obj, debug=debug)\n",
    "\n",
    "detecfunc = helpers.make_lambdafunc(detec_model_PLD, dparams, p0_obj, debug=debug)"
   ]
  },
  {
   "cell_type": "code",
   "execution_count": 81,
   "metadata": {},
   "outputs": [],
   "source": [
    "signal_inputs = (flux, time, Pnorm, mode)\n",
    "\n",
    "p0 = np.array([5.63962028e+04, 9.07770516e-02, 1.00000000e-03, 1.00000000e-03,\n",
    "       1.00000000e-03, 1.00000000e-01, 0.00000000e+00, 1.00000000e+00,\n",
    "       1.00000000e+00, 1.00000000e+00, 1.00000000e+00, 1.00000000e+00,\n",
    "       1.00000000e+00, 1.00000000e+00, 1.00000000e+00, 1.00000000e+00,\n",
    "       8.00000000e-03])"
   ]
  },
  {
   "cell_type": "code",
   "execution_count": 82,
   "metadata": {},
   "outputs": [
    {
     "ename": "NameError",
     "evalue": "name '__main__' is not defined",
     "output_type": "error",
     "traceback": [
      "\u001b[0;31m---------------------------------------------------------------------------\u001b[0m",
      "\u001b[0;31mNameError\u001b[0m                                 Traceback (most recent call last)",
      "\u001b[0;32m<ipython-input-82-2a262565e6c0>\u001b[0m in \u001b[0;36m<module>\u001b[0;34m()\u001b[0m\n\u001b[0;32m----> 1\u001b[0;31m \u001b[0msignal_guess\u001b[0m \u001b[0;34m=\u001b[0m \u001b[0msignalfunc\u001b[0m\u001b[0;34m(\u001b[0m\u001b[0msignal_inputs\u001b[0m\u001b[0;34m,\u001b[0m \u001b[0;34m*\u001b[0m\u001b[0mp0\u001b[0m\u001b[0;34m)\u001b[0m\u001b[0;34m\u001b[0m\u001b[0m\n\u001b[0m",
      "\u001b[0;32m~/Desktop/GitHub/SPCA/helpers.py\u001b[0m in \u001b[0;36m<lambda>\u001b[0;34m(signal_input, t0, rp, q1, q2, fp, A, B, p1_1, p2_1, p3_1, p4_1, p5_1, p6_1, p7_1, p8_1, p9_1, sigF)\u001b[0m\n",
      "\u001b[0;31mNameError\u001b[0m: name '__main__' is not defined"
     ]
    }
   ],
   "source": [
    "signal_guess = signalfunc(signal_inputs, *p0)"
   ]
  },
  {
   "cell_type": "code",
   "execution_count": 83,
   "metadata": {},
   "outputs": [
    {
     "data": {
      "text/plain": [
       "<function helpers.<lambda>>"
      ]
     },
     "execution_count": 83,
     "metadata": {},
     "output_type": "execute_result"
    }
   ],
   "source": [
    "signalfunc"
   ]
  },
  {
   "cell_type": "code",
   "execution_count": 29,
   "metadata": {},
   "outputs": [],
   "source": [
    "p0 = np.array([5.63962028e+04,  9.07770516e-02,  1.00000000e-03,  1.00000000e-03,\n",
    "               1.00000000e-03,  1.00000000e-01,  0.00000000e+00,  1.00000000e+00,\n",
    "               0.00000000e+00,  0.00000000e+00,  1.45616591e+00,  2.46988876e-01,\n",
    "               1.36597578e+00,  1.24985807e+00,  1.43265153e+00, -1.07543390e-01,\n",
    "               -1.01044168e+00,  9.33897579e-01,  1.15382696e+00,  \n",
    "               0.0, 0.0, 0.0, 0.0, 0.0, 0.0, 0.0, 0.0, 0.0, 0.0, 0.0, 0.0, 0.0, 0.0, \n",
    "               0.0, 0.0, 0.0, 0.0, 0.0, 0.0, 0.0, 0.0, 0.0, 0.0, 0.0, 0.0, 0.0, 0.0, \n",
    "               0.0, 0.0, 0.0, 0.0, 0.0, 0.0, 0.0, 0.0, 0.0, 0.0, 0.0, 0.0, 0.0, \n",
    "               8.00000000e-03,])"
   ]
  },
  {
   "cell_type": "code",
   "execution_count": 76,
   "metadata": {},
   "outputs": [
    {
     "name": "stdout",
     "output_type": "stream",
     "text": [
      "lol\n",
      "lol\n",
      "lol2\n"
     ]
    }
   ],
   "source": [
    "signal_inputs = (flux, time, Pnorm, mode)\n",
    "test = signal_PLD(signal_inputs, 1.5, 3, 0.09, 7, 90, 0.01, 0.01, 0.001, 0.001, 0.001, 0.1, 0.0, 0.0, 0.0, 0.9, 0.0,\n",
    "               1.0 ,1.0 ,1.0 ,1.0 ,1.0 ,1.0 ,1.0 ,1.0 ,1.0,0.0 ,0.0 ,0.0 ,0.0 ,0.0 ,0.0 ,\n",
    "               0.0 ,0.0 ,0.0 ,0.0 ,0.0 ,0.0 , 0.0, 0.0, 0.0, 0.0,\n",
    "               0.0 ,0.0 ,0.0 ,0.0 ,0.0 ,0.0 ,0.0 ,0.0 ,0.0,0.0,0.0,0.0,0.0,0.0,0.0,\n",
    "               0.0,0.0,0.0,0.0,0.0,0.0,0.0,0.0,0.0,0.0,\n",
    "               1.0, 0.0, 0.0, 0.0, 0.0, 0.0, 0.008)"
   ]
  },
  {
   "cell_type": "code",
   "execution_count": 77,
   "metadata": {},
   "outputs": [
    {
     "data": {
      "text/plain": [
       "[<matplotlib.lines.Line2D at 0x119fba940>]"
      ]
     },
     "execution_count": 77,
     "metadata": {},
     "output_type": "execute_result"
    },
    {
     "data": {
      "image/png": "[encoded data removed]",
      "text/plain": [
       "<Figure size 432x288 with 1 Axes>"
      ]
     },
     "metadata": {},
     "output_type": "display_data"
    }
   ],
   "source": [
    "plt.figure()\n",
    "plt.plot(test)"
   ]
  },
  {
   "cell_type": "code",
   "execution_count": null,
   "metadata": {},
   "outputs": [],
   "source": []
  }
 ],
 "metadata": {
  "kernelspec": {
   "display_name": "Python 3",
   "language": "python",
   "name": "python3"
  },
  "language_info": {
   "codemirror_mode": {
    "name": "ipython",
    "version": 3
   },
   "file_extension": ".py",
   "mimetype": "text/x-python",
   "name": "python",
   "nbconvert_exporter": "python",
   "pygments_lexer": "ipython3",
   "version": "3.6.4"
  }
 },
 "nbformat": 4,
 "nbformat_minor": 2
}
